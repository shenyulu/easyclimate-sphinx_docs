{
  "cells": [
    {
      "cell_type": "code",
      "execution_count": null,
      "metadata": {
        "collapsed": false
      },
      "outputs": [],
      "source": [
        "%matplotlib inline"
      ]
    },
    {
      "cell_type": "markdown",
      "metadata": {},
      "source": [
        "\n# Interpolation and Regriding\n\nBefore proceeding with all the steps, first import some necessary libraries and packages\n"
      ]
    },
    {
      "cell_type": "code",
      "execution_count": null,
      "metadata": {
        "collapsed": false
      },
      "outputs": [],
      "source": [
        "import easyclimate as ecl\nimport xarray as xr\nimport matplotlib.pyplot as plt\nimport cartopy.crs as ccrs\nimport numpy as np"
      ]
    },
    {
      "cell_type": "markdown",
      "metadata": {},
      "source": [
        "## Interpolation from points to grid\nOpen sample surface pressure data for the European region\n\n"
      ]
    },
    {
      "cell_type": "code",
      "execution_count": null,
      "metadata": {
        "collapsed": false
      },
      "outputs": [],
      "source": [
        "data = ecl.open_tutorial_dataset('PressQFF_202007271200_872.csv')\nprint(data)"
      ]
    },
    {
      "cell_type": "markdown",
      "metadata": {},
      "source": [
        ":py:func:`easyclimate.interp.interp_point2mesh <easyclimate.interp.interp_point2mesh>` enables interpolation from site data to grid point data.\n\n.. seealso::\n\n    - https://github.com/MeteoSwiss/fast-barnes-py\n    - Z\u00fcrcher, B. K.: Fast approximate Barnes interpolation: illustrated by Python-Numba implementation fast-barnes-py v1.0, Geosci. Model Dev., 16, 1697\u20131711, https://doi.org/10.5194/gmd-16-1697-2023, 2023.\n\n"
      ]
    },
    {
      "cell_type": "code",
      "execution_count": null,
      "metadata": {
        "collapsed": false
      },
      "outputs": [],
      "source": [
        "meshdata = ecl.interp.interp_point2mesh(\n    data,\n    var_name = 'qff',\n    grid_x = 37.5,\n    grid_y = 75.0,\n    point = [-26.0, 34.5],\n    resolution = 32,\n    sigma = 1,\n)\nmeshdata"
      ]
    },
    {
      "cell_type": "markdown",
      "metadata": {},
      "source": [
        "Plotting interpolated grid point data and corresponding station locations\n\n"
      ]
    },
    {
      "cell_type": "code",
      "execution_count": null,
      "metadata": {
        "collapsed": false
      },
      "outputs": [],
      "source": [
        "fig, ax = plt.subplots(subplot_kw = {'projection': ccrs.PlateCarree(central_longitude = 0)})\n\nax.gridlines(draw_labels = ['bottom', 'left'], color = \"grey\", alpha = 0.5, linestyle=\"--\")\nax.coastlines(edgecolor = 'black', linewidths = 0.5)\n\n# Draw interpolation results\nmeshdata.plot.contourf(\n    ax = ax,\n    transform = ccrs.PlateCarree(),\n    cbar_kwargs = {'location': 'bottom'},\n    cmap = 'RdBu_r',\n    levels = 21\n)\n\n# Draw observation stations\nax.scatter(\n    data['lon'], data['lat'], s = 1,\n    c = 'r',\n    transform = ccrs.PlateCarree()\n)"
      ]
    },
    {
      "cell_type": "markdown",
      "metadata": {},
      "source": [
        "## Regriding\nReading example raw grid data\n\n"
      ]
    },
    {
      "cell_type": "code",
      "execution_count": null,
      "metadata": {
        "collapsed": false
      },
      "outputs": [],
      "source": [
        "u_data = ecl.tutorial.open_tutorial_dataset('uwnd_202201_mon_mean').sortby('lat').uwnd\nu_data"
      ]
    },
    {
      "cell_type": "markdown",
      "metadata": {},
      "source": [
        "Define the target grid (only for **latitude/longitude and regular grids**)\n\n"
      ]
    },
    {
      "cell_type": "code",
      "execution_count": null,
      "metadata": {
        "collapsed": false
      },
      "outputs": [],
      "source": [
        "target_grid = xr.DataArray(\n    dims=('lat', 'lon'),\n    coords={'lat': np.arange(-89, 89, 6) + 1 / 1.0, 'lon': np.arange(-180, 180, 6) + 1 / 1.0}\n)"
      ]
    },
    {
      "cell_type": "markdown",
      "metadata": {},
      "source": [
        ":py:func:`easyclimate.interp.interp_point2mesh <easyclimate.interp.interp_point2mesh>` performs a regridding operation.\n\n.. seealso:: \n\n  https://github.com/EXCITED-CO2/xarray-regrid\n\n"
      ]
    },
    {
      "cell_type": "code",
      "execution_count": null,
      "metadata": {
        "collapsed": false
      },
      "outputs": [],
      "source": [
        "regriding_data = ecl.interp.interp_mesh2mesh(\n    u_data,\n    target_grid\n)\nregriding_data"
      ]
    },
    {
      "cell_type": "markdown",
      "metadata": {},
      "source": [
        "Plotting differences before and after interpolation\n\n"
      ]
    },
    {
      "cell_type": "code",
      "execution_count": null,
      "metadata": {
        "collapsed": false
      },
      "outputs": [],
      "source": [
        "fig, ax = plt.subplots(1, 2, figsize = (12, 5))\n\nu_data.sel(level = 500).isel(time = 0).plot(\n    ax = ax[0]\n)\nax[0].set_title('Before', size = 20)\n\nregriding_data.sel(level = 500).isel(time = 0).plot(\n    ax = ax[1]\n)\nax[1].set_title('After', size = 20)"
      ]
    }
  ],
  "metadata": {
    "kernelspec": {
      "display_name": "Python 3",
      "language": "python",
      "name": "python3"
    },
    "language_info": {
      "codemirror_mode": {
        "name": "ipython",
        "version": 3
      },
      "file_extension": ".py",
      "mimetype": "text/x-python",
      "name": "python",
      "nbconvert_exporter": "python",
      "pygments_lexer": "ipython3",
      "version": "3.10.9"
    }
  },
  "nbformat": 4,
  "nbformat_minor": 0
}